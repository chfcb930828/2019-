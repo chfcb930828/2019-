{
 "cells": [
  {
   "cell_type": "code",
   "execution_count": 1,
   "metadata": {},
   "outputs": [],
   "source": [
    "import pandas as pd\n",
    "from sklearn import model_selection\n",
    "%matplotlib inline\n",
    "import matplotlib.pyplot as plt\n",
    "from pandas.tools.plotting import scatter_matrix\n",
    "import numpy as np\n",
    "from scipy.stats import skew\n",
    "from scipy.special import boxcox1p\n",
    "from scipy.stats import boxcox_normmax\n",
    "from sklearn.preprocessing import LabelEncoder\n",
    "from xgboost import XGBClassifier\n",
    "from sklearn.metrics import f1_score\n",
    "from xgboost import XGBClassifier\n",
    "from sklearn.svm import SVC\n",
    "from sklearn.ensemble import RandomForestClassifier\n",
    "import re\n",
    "from datetime import datetime, timedelta"
   ]
  },
  {
   "cell_type": "code",
   "execution_count": 6,
   "metadata": {},
   "outputs": [],
   "source": [
    "#欠缺部分：处理极端值;手机型号特征待处理"
   ]
  },
  {
   "cell_type": "markdown",
   "metadata": {},
   "source": [
    "1.数据集划分"
   ]
  },
  {
   "cell_type": "code",
   "execution_count": 2,
   "metadata": {},
   "outputs": [],
   "source": [
    "'''\n",
    "def datasplit(route):\n",
    "    data = pd.read_csv(route,delimiter='\\t')\n",
    "    data.set_index(['sid'],inplace=True)\n",
    "    y = data.iloc[:]['label']\n",
    "    x = data.drop(['label'],axis=1)\n",
    "    x_train,x_test,y_train,y_test = model_selection.train_test_split(x,y,test_size=0.2,random_state=42)\n",
    "    feature = x_train.append(x_test)\n",
    "    return feature,x_train,x_test,y_train,y_test\n",
    "'''\n",
    "def datasplit(routetrain,routetest):\n",
    "    train = pd.read_csv(routetrain,delimiter='\\t')\n",
    "    test = pd.read_csv(routetest,delimiter='\\t')\n",
    "    train.set_index(['sid'],inplace=True)\n",
    "    test.set_index(['sid'],inplace=True)\n",
    "    train_y = train.iloc[:]['label']\n",
    "    train_x = train.drop(['label'],axis=1)\n",
    "    feature = train_x.append(test)\n",
    "    return feature,train_y,train_x,test"
   ]
  },
  {
   "cell_type": "code",
   "execution_count": 3,
   "metadata": {},
   "outputs": [],
   "source": [
    "feature,train_y,train_x,test = datasplit(routetrain='round1_iflyad_anticheat_traindata.txt',routetest='round1_iflyad_anticheat_testdata_feature.txt')\n",
    "#feature,train_x,test_x,train_y,test_y = datasplit(route = 'round1_iflyad_anticheat_traindata.txt')\n",
    "\n"
   ]
  },
  {
   "cell_type": "markdown",
   "metadata": {},
   "source": [
    "2、缺失值处理"
   ]
  },
  {
   "cell_type": "markdown",
   "metadata": {},
   "source": [
    "考虑中：对设备宽的处理，因为可以由画图得知，大部分值在2400以内，所以高于此处的应为异常值，把高于2500的值都拉回2500的范围内\n",
    "_w['w'][_w['w']>2500] = 2500"
   ]
  },
  {
   "cell_type": "markdown",
   "metadata": {},
   "source": [
    "去掉size特征"
   ]
  },
  {
   "cell_type": "markdown",
   "metadata": {},
   "source": [
    "分类变量"
   ]
  },
  {
   "cell_type": "code",
   "execution_count": 7,
   "metadata": {},
   "outputs": [],
   "source": [
    "feature['time'] = pd.to_datetime(feature['nginxtime'] * 1e+6) + timedelta(hours=8)\n",
    "feature['day'] = feature['time'].dt.dayofyear\n",
    "feature['hour'] = feature['time'].dt.hour"
   ]
  },
  {
   "cell_type": "code",
   "execution_count": 16,
   "metadata": {},
   "outputs": [
    {
     "data": {
      "text/plain": [
       "160    150000\n",
       "159    150000\n",
       "158    150000\n",
       "157    150000\n",
       "156    150000\n",
       "155    150000\n",
       "161    100000\n",
       "154    100000\n",
       "Name: day, dtype: int64"
      ]
     },
     "execution_count": 16,
     "metadata": {},
     "output_type": "execute_result"
    }
   ],
   "source": [
    "feature['day'].value_counts()"
   ]
  },
  {
   "cell_type": "code",
   "execution_count": 42,
   "metadata": {},
   "outputs": [],
   "source": [
    "feature['ver'] = feature['ver'].fillna(str(-1))\n",
    "#city,关联省份之后，发现省份居然打码，按照省份分组的众数填充城市\n",
    "feature['city'] = feature.groupby('province')['city'].transform(lambda x:x.fillna(method = 'ffill'))\n",
    "feature['model'] = feature['model'].fillna(str(-1))\n",
    "feature['make'] = feature['make'].fillna(str(-1))\n",
    "feature['osv'] = feature['osv'].fillna(feature['osv'].mode()[0])\n",
    "#语言那一列，缺失值很多，大部分值都为中文，可整列剔除"
   ]
  },
  {
   "cell_type": "code",
   "execution_count": 43,
   "metadata": {},
   "outputs": [
    {
     "data": {
      "text/plain": [
       "-1.0     1001057\n",
       " 2.0       33169\n",
       " 31.0      28287\n",
       " 3.0       19897\n",
       " 27.0      16876\n",
       " 33.0        437\n",
       " 34.0        159\n",
       " 32.0        118\n",
       "Name: province, dtype: int64"
      ]
     },
     "execution_count": 43,
     "metadata": {},
     "output_type": "execute_result"
    }
   ],
   "source": [
    "feature['province'].value_counts()"
   ]
  },
  {
   "cell_type": "markdown",
   "metadata": {},
   "source": [
    "特征处理"
   ]
  },
  {
   "cell_type": "code",
   "execution_count": 44,
   "metadata": {},
   "outputs": [],
   "source": [
    "#feature = feature.drop(['lan','h','w','os','province','idfamd5','model','openudidmd5',],axis=1)\n",
    "feature = feature.drop(['lan','os','idfamd5','openudidmd5','time','nginxtime',],axis=1)"
   ]
  },
  {
   "cell_type": "code",
   "execution_count": 27,
   "metadata": {},
   "outputs": [],
   "source": [
    "#数值型特征处理\n",
    "#使用skew()方法，计算所有整型和浮点型数据列中，数据分布的偏度（skewness）。\n",
    "#异常值处理\n"
   ]
  },
  {
   "cell_type": "code",
   "execution_count": 45,
   "metadata": {},
   "outputs": [],
   "source": [
    "skew_feature = feature[['ppi','nginxtime']].apply(lambda x: skew(x)).sort_values(ascending=False)\n",
    "high_skew = skew_feature[skew_feature>0.5]\n",
    "skew_index = high_skew.index\n",
    "for i in skew_index:\n",
    "    feature[i] = boxcox1p(feature[i], boxcox_normmax(feature[i] + 1))"
   ]
  },
  {
   "cell_type": "code",
   "execution_count": 46,
   "metadata": {},
   "outputs": [],
   "source": [
    "#分类变量特征处理\n",
    "feature['orientation'] = feature['orientation'].replace([2.0,90.0],1.0)\n",
    "feature['carrier'] = feature['carrier'].replace(-1.0,0.0)\n",
    "feature['ntt'] = feature['ntt'].replace(7.0,0.0)"
   ]
  },
  {
   "cell_type": "code",
   "execution_count": 47,
   "metadata": {},
   "outputs": [],
   "source": [
    "feature['make'] = feature['make'].replace(['Vivo','vivo,V1813A,PD1813C','vivo%20X20Plus','v1816a','VIVO','vivo,vivo Y35A,PD1502A','vivo V1809T','vivoV1813A','vivo,V1818CA,PD1818E','vivo,vivo Y22L,msm8226',\n",
    "                                           'vivo V3M A','vivo__vivo__vivoY51A','vivoXplay5A',\n",
    "                                           '😁蓝色天边波花👾亦是心中飞画😚我就问大家一句:我帅不帅😄','vivo+x20'],'vivo')\n",
    "feature['make'] = feature['make'].replace(['oppo','OPPO%20R7sm','OPPOOPPO A59s','OPPO%20R11%20Pluskt',\n",
    "                                          'OPPOA59s','OPPO+A37m','OPPO,PCCM00,PCCM00','OPPO+R11',\n",
    "                                           'OPPOOPPOA57t','oppoa79k'],'OPPO')\n",
    "feature['make'] = feature['make'].replace(['HUAWEI,CHM-CL00,CHM-CL00','JSN-AL00','HONOR','荣耀','HMA-AL00','EML-AL00',\n",
    "                                           '华为','LYA-AL00','INE-AL00','CLT-AL00','huawei','HUAWEICLT-AL00','honor',\n",
    "                                          'HUAWEI__HUAWEI__WAS-AL00','HUAWEI,MHA-TL00,MHA-TL00','JSN-AL00a','ANE-AL00',\n",
    "                                           'HUAWEI__HUAWEI__EVR-AL00','HUAWEITRT-AL00A','LLD-AL20','COR-AL10','Huawei',\n",
    "                                           'PAR-AL00','JKM-AL00b',\n",
    "                                           'COL-AL10','HUAWEI CAZ-TL10','VCE-AL00','PCT-AL10','ELE-AL00',\n",
    "                                          ],'HUAWEI')\n",
    "feature['make'] = feature['make'].replace(['xiaomi','Xiaomi,Redmi 6A,cactus','Redmi%204A','Redmi%204A','Xiaomi,MI 9 SE,grus','小米'],'Xiaomi')\n",
    "feature['make'] = feature['make'].replace(['魅族','M721C','PRO7H','meizu'],'Meizu')\n",
    "feature['make'] = feature['make'].replace(['三星','SM-J7108','SM-G5108Q'],'samsung')\n",
    "feature['make'] = feature['make'].replace(['SMARTISAN','锤子','smartisan__SMARTISAN__YQ601',],'smartisan')\n",
    "feature['make'] = feature['make'].replace(['金立','GiONEE',\n",
    "                                           'gionee','SM-G5108Q'],'GIONEE')\n",
    "feature['make'] = feature['make'].replace(['360'],'360手机')\n",
    "feature['make'] = feature['make'].replace(['zhongxing','zte','中兴'],'ZTE')\n",
    "feature['make'] = feature['make'].replace(['努比亚'],'nubia')\n",
    "feature['make'] = feature['make'].replace(['酷派'],'Coolpad')\n",
    "feature['make'] = feature['make'].replace(['一加'],'OnePlus')\n",
    "feature['make'] = feature['make'].replace(['Letv','LeEco','LeMobileLeX620'],'LeMobile')\n",
    "feature['make'] = feature['make'].replace(['LENOVO'],'lenovo')\n",
    "feature['make'] = feature['make'].replace(['HMD Global'],'Nokia')\n",
    "feature['make'] = feature['make'].replace(['美图'],'Meitu')\n"
   ]
  },
  {
   "cell_type": "code",
   "execution_count": 48,
   "metadata": {},
   "outputs": [],
   "source": [
    "#labelencoder\n",
    "encoder = ['apptype', 'dvctype', 'ntt', 'orientation', 'osv', 'pkgname', 'ver', 'adunitshowid', 'mediashowid',\n",
    "           'ip', 'city', 'reqrealip', 'adidmd5','model',''\n",
    "           'imeimd5', 'macmd5', 'make',]\n",
    "col_encoder = LabelEncoder()\n",
    "for feat in encoder:\n",
    "    col_encoder.fit(feature[feat])\n",
    "    feature[feat] = col_encoder.transform(feature[feat])"
   ]
  },
  {
   "cell_type": "markdown",
   "metadata": {},
   "source": [
    "一部分变量做哑变量，IP地址类，上网检索特征处理"
   ]
  },
  {
   "cell_type": "code",
   "execution_count": 49,
   "metadata": {},
   "outputs": [],
   "source": [
    "train_x = feature[:len(train_x)]\n",
    "test_x = feature[len(train_x):]"
   ]
  },
  {
   "cell_type": "code",
   "execution_count": 50,
   "metadata": {},
   "outputs": [
    {
     "data": {
      "text/plain": [
       "RandomForestClassifier(bootstrap=True, class_weight=None, criterion='gini',\n",
       "            max_depth=None, max_features='auto', max_leaf_nodes=None,\n",
       "            min_impurity_decrease=0.0, min_impurity_split=None,\n",
       "            min_samples_leaf=1, min_samples_split=2,\n",
       "            min_weight_fraction_leaf=0.0, n_estimators=200, n_jobs=None,\n",
       "            oob_score=False, random_state=None, verbose=0,\n",
       "            warm_start=False)"
      ]
     },
     "execution_count": 50,
     "metadata": {},
     "output_type": "execute_result"
    }
   ],
   "source": [
    "clf2 = RandomForestClassifier(n_estimators=200)\n",
    "clf2.fit(train_x,train_y)"
   ]
  },
  {
   "cell_type": "code",
   "execution_count": 51,
   "metadata": {},
   "outputs": [],
   "source": [
    "pre_2 = clf2.predict(test_x)\n",
    "pre_2 = pd.DataFrame(pre_2)\n",
    "pre_2.set_index(test.index,inplace=True)\n",
    "pre_2.to_csv('ans4.csv')"
   ]
  },
  {
   "cell_type": "code",
   "execution_count": 53,
   "metadata": {},
   "outputs": [
    {
     "data": {
      "text/plain": [
       "-1.0     1001057\n",
       " 2.0       33169\n",
       " 31.0      28287\n",
       " 3.0       19897\n",
       " 27.0      16876\n",
       " 33.0        437\n",
       " 34.0        159\n",
       " 32.0        118\n",
       "Name: province, dtype: int64"
      ]
     },
     "execution_count": 53,
     "metadata": {},
     "output_type": "execute_result"
    }
   ],
   "source": [
    "feature['province'].value_counts()"
   ]
  },
  {
   "cell_type": "code",
   "execution_count": 29,
   "metadata": {},
   "outputs": [
    {
     "data": {
      "text/plain": [
       "0.8124741842213961"
      ]
     },
     "execution_count": 29,
     "metadata": {},
     "output_type": "execute_result"
    }
   ],
   "source": [
    "clf2 = RandomForestClassifier(n_estimators=200)\n",
    "clf2.fit(train_x,train_y)\n",
    "pre_2 = clf2.predict(test_x)\n",
    "acc_2 = f1_score(test_y,pre_2)"
   ]
  },
  {
   "cell_type": "code",
   "execution_count": null,
   "metadata": {},
   "outputs": [],
   "source": [
    "clf2 = RandomForestClassifier(n_estimators=300)\n",
    "clf2.fit(train_x,train_y)\n",
    "pre_2 = clf2.predict(test_x)\n",
    "acc_2 = f1_score(test_y,pre_2)"
   ]
  },
  {
   "cell_type": "code",
   "execution_count": null,
   "metadata": {},
   "outputs": [],
   "source": [
    "from sklearn.ensemble import GradientBoostingClassifier\n",
    "clf3 = GradientBoostingClassifier(n_estimators=200, max_depth=2, min_samples_split=2, learning_rate=0.01)\n",
    "clf3.fit(train_x,train_y)\n",
    "pre3 = clf3.predict(test_x)\n",
    "print(acc_3)"
   ]
  },
  {
   "cell_type": "code",
   "execution_count": null,
   "metadata": {},
   "outputs": [],
   "source": [
    "model = XGBClassifier(learning_rate=0.01)\n",
    "model.fit(train_x,train_y)\n",
    "pre = model.predict(test_x)\n",
    "acc = f1_score(test_y,pre)"
   ]
  }
 ],
 "metadata": {
  "kernelspec": {
   "display_name": "Python 3",
   "language": "python",
   "name": "python3"
  },
  "language_info": {
   "codemirror_mode": {
    "name": "ipython",
    "version": 3
   },
   "file_extension": ".py",
   "mimetype": "text/x-python",
   "name": "python",
   "nbconvert_exporter": "python",
   "pygments_lexer": "ipython3",
   "version": "3.7.0"
  }
 },
 "nbformat": 4,
 "nbformat_minor": 2
}
